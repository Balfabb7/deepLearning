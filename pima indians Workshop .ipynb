{
 "cells": [
  {
   "cell_type": "markdown",
   "metadata": {},
   "source": [
    "#### Make sure all the libraries are installed"
   ]
  },
  {
   "cell_type": "code",
   "execution_count": 2,
   "metadata": {},
   "outputs": [
    {
     "name": "stderr",
     "output_type": "stream",
     "text": [
      "C:\\Users\\cody\\Anaconda3\\lib\\site-packages\\h5py\\__init__.py:36: FutureWarning: Conversion of the second argument of issubdtype from `float` to `np.floating` is deprecated. In future, it will be treated as `np.float64 == np.dtype(float).type`.\n",
      "  from ._conv import register_converters as _register_converters\n",
      "Using TensorFlow backend.\n"
     ]
    }
   ],
   "source": [
    "from keras.models import Sequential\n",
    "from keras.layers import Dense\n",
    "import numpy\n",
    "from sklearn.metrics import accuracy_score, precision_score, recall_score, f1_score\n",
    "import numpy as np\n",
    "# fix random seed for reproducibility allows us to reproduce the same results over and over\n",
    "numpy.random.seed(7)"
   ]
  },
  {
   "cell_type": "markdown",
   "metadata": {},
   "source": [
    "#### Load\n",
    "#### Preview\n",
    "#### Q0. \n",
    "What is our input and output?  \n",
    "#### Q1. \n",
    "Why \"0:8\" in X and \"8\" in Y?   "
   ]
  },
  {
   "cell_type": "code",
   "execution_count": 3,
   "metadata": {},
   "outputs": [
    {
     "name": "stdout",
     "output_type": "stream",
     "text": [
      "(768, 9)\n"
     ]
    }
   ],
   "source": [
    "# load pima indians dataset\n",
    "dataset = numpy.loadtxt(\"pima-indians-diabetes.csv\", delimiter=\",\")\n",
    "print(dataset.shape)"
   ]
  },
  {
   "cell_type": "markdown",
   "metadata": {},
   "source": [
    "#### split into input (X) and output (Y) variables"
   ]
  },
  {
   "cell_type": "code",
   "execution_count": 4,
   "metadata": {},
   "outputs": [],
   "source": [
    "XTRAIN = dataset[:700,0:8]\n",
    "YTRAIN = dataset[:700,8]\n",
    "XVALIDATION = dataset[700:,0:8]\n",
    "YVALIDATION = dataset[700:,8]"
   ]
  },
  {
   "cell_type": "code",
   "execution_count": 5,
   "metadata": {},
   "outputs": [
    {
     "name": "stdout",
     "output_type": "stream",
     "text": [
      "(700, 8)\n",
      "(700,)\n",
      "(68, 8)\n",
      "(68,)\n",
      "[[  6.    148.     72.     35.      0.     33.6     0.627  50.   ]\n",
      " [  1.     85.     66.     29.      0.     26.6     0.351  31.   ]\n",
      " [  8.    183.     64.      0.      0.     23.3     0.672  32.   ]]\n",
      "[1. 0. 1.]\n",
      "[[  2.    122.     76.     27.    200.     35.9     0.483  26.   ]\n",
      " [  6.    125.     78.     31.      0.     27.6     0.565  49.   ]\n",
      " [  1.    168.     88.     29.      0.     35.      0.905  52.   ]]\n",
      "[0. 1. 1.]\n"
     ]
    }
   ],
   "source": [
    "print(XTRAIN.shape)\n",
    "print(YTRAIN.shape)\n",
    "print(XVALIDATION.shape)\n",
    "print(YVALIDATION.shape)\n",
    "print(XTRAIN[0:3,])\n",
    "print(YTRAIN[0:3])\n",
    "print(XVALIDATION[0:3,])\n",
    "print(YVALIDATION[0:3])"
   ]
  },
  {
   "cell_type": "markdown",
   "metadata": {},
   "source": [
    "#### Q2. \n",
    "why is the input_dim 8? Can be replaced with X[0, :]\n"
   ]
  },
  {
   "cell_type": "code",
   "execution_count": 6,
   "metadata": {},
   "outputs": [
    {
     "name": "stdout",
     "output_type": "stream",
     "text": [
      "_________________________________________________________________\n",
      "Layer (type)                 Output Shape              Param #   \n",
      "=================================================================\n",
      "dense_1 (Dense)              (None, 12)                108       \n",
      "_________________________________________________________________\n",
      "dense_2 (Dense)              (None, 8)                 104       \n",
      "_________________________________________________________________\n",
      "dense_3 (Dense)              (None, 1)                 9         \n",
      "=================================================================\n",
      "Total params: 221\n",
      "Trainable params: 221\n",
      "Non-trainable params: 0\n",
      "_________________________________________________________________\n",
      "None\n"
     ]
    }
   ],
   "source": [
    "# create model\n",
    "model = Sequential()\n",
    "model.add(Dense(12, input_dim=8, activation='relu'))\n",
    "model.add(Dense(8, activation='relu'))\n",
    "model.add(Dense(1, activation='sigmoid'))\n",
    "print(model.summary())"
   ]
  },
  {
   "cell_type": "markdown",
   "metadata": {},
   "source": [
    "#### Check for proper neural connections by compiling your model"
   ]
  },
  {
   "cell_type": "code",
   "execution_count": 7,
   "metadata": {},
   "outputs": [],
   "source": [
    "# Compile model\n",
    "model.compile(loss='binary_crossentropy', optimizer='adam', metrics=['accuracy'])"
   ]
  },
  {
   "cell_type": "markdown",
   "metadata": {},
   "source": [
    "#### build the model with X and Y"
   ]
  },
  {
   "cell_type": "code",
   "execution_count": 24,
   "metadata": {},
   "outputs": [
    {
     "name": "stdout",
     "output_type": "stream",
     "text": [
      "Train on 768 samples, validate on 700 samples\n",
      "Epoch 1/150\n",
      "768/768 [==============================] - 1s 1ms/step - loss: 3.6832 - acc: 0.5964 - val_loss: 1.2746 - val_acc: 0.5814\n",
      "Epoch 2/150\n",
      "768/768 [==============================] - 0s 177us/step - loss: 0.9286 - acc: 0.6003 - val_loss: 0.7848 - val_acc: 0.6471\n",
      "Epoch 3/150\n",
      "768/768 [==============================] - 0s 167us/step - loss: 0.7407 - acc: 0.6367 - val_loss: 0.7498 - val_acc: 0.6800\n",
      "Epoch 4/150\n",
      "768/768 [==============================] - 0s 177us/step - loss: 0.7082 - acc: 0.6615 - val_loss: 0.6721 - val_acc: 0.6486\n",
      "Epoch 5/150\n",
      "768/768 [==============================] - 0s 177us/step - loss: 0.6810 - acc: 0.6810 - val_loss: 0.6474 - val_acc: 0.6714\n",
      "Epoch 6/150\n",
      "768/768 [==============================] - 0s 172us/step - loss: 0.6505 - acc: 0.6836 - val_loss: 0.6408 - val_acc: 0.6671\n",
      "Epoch 7/150\n",
      "768/768 [==============================] - 0s 172us/step - loss: 0.6483 - acc: 0.6732 - val_loss: 0.6567 - val_acc: 0.6671\n",
      "Epoch 8/150\n",
      "768/768 [==============================] - 0s 167us/step - loss: 0.6356 - acc: 0.6927 - val_loss: 0.6027 - val_acc: 0.7100\n",
      "Epoch 9/150\n",
      "768/768 [==============================] - 0s 177us/step - loss: 0.6231 - acc: 0.6914 - val_loss: 0.5965 - val_acc: 0.7000\n",
      "Epoch 10/150\n",
      "768/768 [==============================] - 0s 177us/step - loss: 0.6280 - acc: 0.6797 - val_loss: 0.6077 - val_acc: 0.7143\n",
      "Epoch 11/150\n",
      "768/768 [==============================] - 0s 224us/step - loss: 0.6446 - acc: 0.6771 - val_loss: 0.5981 - val_acc: 0.7114\n",
      "Epoch 12/150\n",
      "768/768 [==============================] - 0s 172us/step - loss: 0.6379 - acc: 0.6732 - val_loss: 0.6148 - val_acc: 0.7114\n",
      "Epoch 13/150\n",
      "768/768 [==============================] - 0s 172us/step - loss: 0.6241 - acc: 0.6771 - val_loss: 0.5853 - val_acc: 0.7086\n",
      "Epoch 14/150\n",
      "768/768 [==============================] - 0s 167us/step - loss: 0.6167 - acc: 0.7018 - val_loss: 0.6111 - val_acc: 0.6629\n",
      "Epoch 15/150\n",
      "768/768 [==============================] - 0s 177us/step - loss: 0.6012 - acc: 0.7005 - val_loss: 0.5684 - val_acc: 0.7214\n",
      "Epoch 16/150\n",
      "768/768 [==============================] - 0s 172us/step - loss: 0.5876 - acc: 0.6992 - val_loss: 0.5690 - val_acc: 0.7114\n",
      "Epoch 17/150\n",
      "768/768 [==============================] - 0s 177us/step - loss: 0.5840 - acc: 0.6992 - val_loss: 0.5793 - val_acc: 0.7329\n",
      "Epoch 18/150\n",
      "768/768 [==============================] - 0s 177us/step - loss: 0.5989 - acc: 0.6875 - val_loss: 0.5730 - val_acc: 0.7029\n",
      "Epoch 19/150\n",
      "768/768 [==============================] - 0s 167us/step - loss: 0.5800 - acc: 0.7122 - val_loss: 0.5905 - val_acc: 0.7071\n",
      "Epoch 20/150\n",
      "768/768 [==============================] - 0s 177us/step - loss: 0.5800 - acc: 0.7201 - val_loss: 0.5492 - val_acc: 0.7257\n",
      "Epoch 21/150\n",
      "768/768 [==============================] - 0s 177us/step - loss: 0.5685 - acc: 0.7174 - val_loss: 0.5520 - val_acc: 0.7271\n",
      "Epoch 22/150\n",
      "768/768 [==============================] - 0s 172us/step - loss: 0.5814 - acc: 0.6992 - val_loss: 0.5795 - val_acc: 0.7157\n",
      "Epoch 23/150\n",
      "768/768 [==============================] - 0s 172us/step - loss: 0.5739 - acc: 0.7096 - val_loss: 0.5722 - val_acc: 0.7329\n",
      "Epoch 24/150\n",
      "768/768 [==============================] - 0s 172us/step - loss: 0.5680 - acc: 0.7344 - val_loss: 0.5372 - val_acc: 0.7386\n",
      "Epoch 25/150\n",
      "768/768 [==============================] - 0s 193us/step - loss: 0.5574 - acc: 0.7383 - val_loss: 0.5657 - val_acc: 0.7200\n",
      "Epoch 26/150\n",
      "768/768 [==============================] - 0s 177us/step - loss: 0.5704 - acc: 0.7044 - val_loss: 0.6098 - val_acc: 0.6614\n",
      "Epoch 27/150\n",
      "768/768 [==============================] - 0s 172us/step - loss: 0.5556 - acc: 0.7201 - val_loss: 0.5471 - val_acc: 0.7214\n",
      "Epoch 28/150\n",
      "768/768 [==============================] - 0s 167us/step - loss: 0.5555 - acc: 0.7292 - val_loss: 0.5264 - val_acc: 0.7514\n",
      "Epoch 29/150\n",
      "768/768 [==============================] - 0s 167us/step - loss: 0.5740 - acc: 0.7135 - val_loss: 0.5362 - val_acc: 0.7286\n",
      "Epoch 30/150\n",
      "768/768 [==============================] - 0s 167us/step - loss: 0.5612 - acc: 0.7201 - val_loss: 0.5435 - val_acc: 0.7300\n",
      "Epoch 31/150\n",
      "768/768 [==============================] - 0s 167us/step - loss: 0.5691 - acc: 0.7148 - val_loss: 0.5483 - val_acc: 0.7429\n",
      "Epoch 32/150\n",
      "768/768 [==============================] - 0s 172us/step - loss: 0.5629 - acc: 0.7148 - val_loss: 0.5548 - val_acc: 0.7229\n",
      "Epoch 33/150\n",
      "768/768 [==============================] - 0s 193us/step - loss: 0.5532 - acc: 0.7109 - val_loss: 0.5428 - val_acc: 0.7343\n",
      "Epoch 34/150\n",
      "768/768 [==============================] - 0s 172us/step - loss: 0.5511 - acc: 0.7331 - val_loss: 0.5304 - val_acc: 0.7443\n",
      "Epoch 35/150\n",
      "768/768 [==============================] - 0s 234us/step - loss: 0.5499 - acc: 0.7214 - val_loss: 0.6120 - val_acc: 0.6657\n",
      "Epoch 36/150\n",
      "768/768 [==============================] - 0s 292us/step - loss: 0.5648 - acc: 0.7070 - val_loss: 0.5354 - val_acc: 0.7243\n",
      "Epoch 37/150\n",
      "768/768 [==============================] - 0s 333us/step - loss: 0.5335 - acc: 0.7422 - val_loss: 0.5183 - val_acc: 0.7214\n",
      "Epoch 38/150\n",
      "768/768 [==============================] - 0s 234us/step - loss: 0.5407 - acc: 0.7266 - val_loss: 0.5275 - val_acc: 0.7414\n",
      "Epoch 39/150\n",
      "768/768 [==============================] - 0s 245us/step - loss: 0.5456 - acc: 0.7266 - val_loss: 0.5189 - val_acc: 0.7500\n",
      "Epoch 40/150\n",
      "768/768 [==============================] - 0s 229us/step - loss: 0.5443 - acc: 0.7227 - val_loss: 0.5151 - val_acc: 0.7443\n",
      "Epoch 41/150\n",
      "768/768 [==============================] - 0s 344us/step - loss: 0.5439 - acc: 0.7357 - val_loss: 0.5256 - val_acc: 0.7414\n",
      "Epoch 42/150\n",
      "768/768 [==============================] - 0s 312us/step - loss: 0.5387 - acc: 0.7422 - val_loss: 0.5229 - val_acc: 0.7557\n",
      "Epoch 43/150\n",
      "768/768 [==============================] - 0s 161us/step - loss: 0.5317 - acc: 0.7526 - val_loss: 0.5484 - val_acc: 0.7229\n",
      "Epoch 44/150\n",
      "768/768 [==============================] - 0s 208us/step - loss: 0.5349 - acc: 0.7409 - val_loss: 0.5112 - val_acc: 0.7543\n",
      "Epoch 45/150\n",
      "768/768 [==============================] - 0s 219us/step - loss: 0.5327 - acc: 0.7552 - val_loss: 0.5174 - val_acc: 0.7557\n",
      "Epoch 46/150\n",
      "768/768 [==============================] - 0s 177us/step - loss: 0.5288 - acc: 0.7474 - val_loss: 0.5043 - val_acc: 0.7600\n",
      "Epoch 47/150\n",
      "768/768 [==============================] - 0s 213us/step - loss: 0.5319 - acc: 0.7396 - val_loss: 0.5057 - val_acc: 0.7629\n",
      "Epoch 48/150\n",
      "768/768 [==============================] - 0s 219us/step - loss: 0.5337 - acc: 0.7422 - val_loss: 0.5147 - val_acc: 0.7557\n",
      "Epoch 49/150\n",
      "768/768 [==============================] - 0s 208us/step - loss: 0.5338 - acc: 0.7422 - val_loss: 0.5209 - val_acc: 0.7543\n",
      "Epoch 50/150\n",
      "768/768 [==============================] - 0s 213us/step - loss: 0.5265 - acc: 0.7370 - val_loss: 0.5006 - val_acc: 0.7600\n",
      "Epoch 51/150\n",
      "768/768 [==============================] - 0s 213us/step - loss: 0.5275 - acc: 0.7448 - val_loss: 0.5248 - val_acc: 0.7443\n",
      "Epoch 52/150\n",
      "768/768 [==============================] - 0s 198us/step - loss: 0.5321 - acc: 0.7474 - val_loss: 0.5138 - val_acc: 0.7286\n",
      "Epoch 53/150\n",
      "768/768 [==============================] - 0s 172us/step - loss: 0.5396 - acc: 0.7422 - val_loss: 0.5026 - val_acc: 0.7443\n",
      "Epoch 54/150\n",
      "768/768 [==============================] - 0s 177us/step - loss: 0.5372 - acc: 0.7292 - val_loss: 0.5066 - val_acc: 0.7471\n",
      "Epoch 55/150\n",
      "768/768 [==============================] - 0s 203us/step - loss: 0.5222 - acc: 0.7539 - val_loss: 0.5099 - val_acc: 0.7343\n",
      "Epoch 56/150\n",
      "768/768 [==============================] - 0s 167us/step - loss: 0.5281 - acc: 0.7474 - val_loss: 0.5084 - val_acc: 0.7557\n",
      "Epoch 57/150\n",
      "768/768 [==============================] - 0s 182us/step - loss: 0.5308 - acc: 0.7383 - val_loss: 0.5243 - val_acc: 0.7443\n",
      "Epoch 58/150\n",
      "768/768 [==============================] - 0s 167us/step - loss: 0.5219 - acc: 0.7552 - val_loss: 0.5154 - val_acc: 0.7343\n",
      "Epoch 59/150\n",
      "768/768 [==============================] - 0s 172us/step - loss: 0.5130 - acc: 0.7604 - val_loss: 0.5131 - val_acc: 0.7414\n",
      "Epoch 60/150\n",
      "768/768 [==============================] - 0s 167us/step - loss: 0.5354 - acc: 0.7370 - val_loss: 0.5022 - val_acc: 0.7471\n"
     ]
    },
    {
     "name": "stdout",
     "output_type": "stream",
     "text": [
      "Epoch 61/150\n",
      "768/768 [==============================] - 0s 177us/step - loss: 0.5254 - acc: 0.7344 - val_loss: 0.5029 - val_acc: 0.7386\n",
      "Epoch 62/150\n",
      "768/768 [==============================] - 0s 172us/step - loss: 0.5169 - acc: 0.7565 - val_loss: 0.5201 - val_acc: 0.7357\n",
      "Epoch 63/150\n",
      "768/768 [==============================] - 0s 172us/step - loss: 0.5445 - acc: 0.7344 - val_loss: 0.4947 - val_acc: 0.7700\n",
      "Epoch 64/150\n",
      "768/768 [==============================] - 0s 177us/step - loss: 0.5318 - acc: 0.7396 - val_loss: 0.5166 - val_acc: 0.7557\n",
      "Epoch 65/150\n",
      "768/768 [==============================] - 0s 193us/step - loss: 0.5193 - acc: 0.7500 - val_loss: 0.4908 - val_acc: 0.7657\n",
      "Epoch 66/150\n",
      "768/768 [==============================] - 0s 172us/step - loss: 0.5066 - acc: 0.7500 - val_loss: 0.5009 - val_acc: 0.7457\n",
      "Epoch 67/150\n",
      "768/768 [==============================] - 0s 172us/step - loss: 0.5163 - acc: 0.7370 - val_loss: 0.4889 - val_acc: 0.7671\n",
      "Epoch 68/150\n",
      "768/768 [==============================] - 0s 219us/step - loss: 0.5115 - acc: 0.7500 - val_loss: 0.5081 - val_acc: 0.7414\n",
      "Epoch 69/150\n",
      "768/768 [==============================] - 0s 172us/step - loss: 0.5111 - acc: 0.7461 - val_loss: 0.4943 - val_acc: 0.7586\n",
      "Epoch 70/150\n",
      "768/768 [==============================] - 0s 172us/step - loss: 0.5351 - acc: 0.7227 - val_loss: 0.4902 - val_acc: 0.7571\n",
      "Epoch 71/150\n",
      "768/768 [==============================] - 0s 172us/step - loss: 0.5189 - acc: 0.7448 - val_loss: 0.4857 - val_acc: 0.7600\n",
      "Epoch 72/150\n",
      "768/768 [==============================] - 0s 177us/step - loss: 0.5153 - acc: 0.7474 - val_loss: 0.4959 - val_acc: 0.7700\n",
      "Epoch 73/150\n",
      "768/768 [==============================] - 0s 187us/step - loss: 0.5169 - acc: 0.7448 - val_loss: 0.5241 - val_acc: 0.7400\n",
      "Epoch 74/150\n",
      "768/768 [==============================] - 0s 172us/step - loss: 0.5098 - acc: 0.7617 - val_loss: 0.4820 - val_acc: 0.7686\n",
      "Epoch 75/150\n",
      "768/768 [==============================] - 0s 187us/step - loss: 0.5105 - acc: 0.7591 - val_loss: 0.5810 - val_acc: 0.7129\n",
      "Epoch 76/150\n",
      "768/768 [==============================] - 0s 177us/step - loss: 0.5139 - acc: 0.7539 - val_loss: 0.4985 - val_acc: 0.7429\n",
      "Epoch 77/150\n",
      "768/768 [==============================] - 0s 177us/step - loss: 0.5153 - acc: 0.7656 - val_loss: 0.4811 - val_acc: 0.7600\n",
      "Epoch 78/150\n",
      "768/768 [==============================] - 0s 198us/step - loss: 0.5134 - acc: 0.7487 - val_loss: 0.4826 - val_acc: 0.7514\n",
      "Epoch 79/150\n",
      "768/768 [==============================] - 0s 318us/step - loss: 0.5142 - acc: 0.7396 - val_loss: 0.4801 - val_acc: 0.7757\n",
      "Epoch 80/150\n",
      "768/768 [==============================] - 0s 266us/step - loss: 0.5086 - acc: 0.7630 - val_loss: 0.4852 - val_acc: 0.7586\n",
      "Epoch 81/150\n",
      "768/768 [==============================] - 0s 364us/step - loss: 0.5041 - acc: 0.7708 - val_loss: 0.5034 - val_acc: 0.7557\n",
      "Epoch 82/150\n",
      "768/768 [==============================] - 0s 286us/step - loss: 0.5046 - acc: 0.7565 - val_loss: 0.5142 - val_acc: 0.7457\n",
      "Epoch 83/150\n",
      "768/768 [==============================] - 0s 286us/step - loss: 0.5004 - acc: 0.7656 - val_loss: 0.5278 - val_acc: 0.7300\n",
      "Epoch 84/150\n",
      "768/768 [==============================] - 0s 297us/step - loss: 0.4964 - acc: 0.7604 - val_loss: 0.4932 - val_acc: 0.7486\n",
      "Epoch 85/150\n",
      "768/768 [==============================] - 0s 323us/step - loss: 0.5044 - acc: 0.7552 - val_loss: 0.4889 - val_acc: 0.7757\n",
      "Epoch 86/150\n",
      "768/768 [==============================] - 0s 349us/step - loss: 0.5070 - acc: 0.7526 - val_loss: 0.4865 - val_acc: 0.7643\n",
      "Epoch 87/150\n",
      "768/768 [==============================] - 0s 266us/step - loss: 0.4980 - acc: 0.7604 - val_loss: 0.4742 - val_acc: 0.7700\n",
      "Epoch 88/150\n",
      "768/768 [==============================] - 0s 240us/step - loss: 0.4996 - acc: 0.7643 - val_loss: 0.4983 - val_acc: 0.7657\n",
      "Epoch 89/150\n",
      "768/768 [==============================] - 0s 297us/step - loss: 0.5034 - acc: 0.7747 - val_loss: 0.5120 - val_acc: 0.7543\n",
      "Epoch 90/150\n",
      "768/768 [==============================] - 0s 260us/step - loss: 0.5092 - acc: 0.7513 - val_loss: 0.4878 - val_acc: 0.7714\n",
      "Epoch 91/150\n",
      "768/768 [==============================] - 0s 245us/step - loss: 0.4981 - acc: 0.7604 - val_loss: 0.5139 - val_acc: 0.7429\n",
      "Epoch 92/150\n",
      "768/768 [==============================] - 0s 250us/step - loss: 0.5046 - acc: 0.7513 - val_loss: 0.4862 - val_acc: 0.7686\n",
      "Epoch 93/150\n",
      "768/768 [==============================] - 0s 297us/step - loss: 0.4974 - acc: 0.7604 - val_loss: 0.4901 - val_acc: 0.7757\n",
      "Epoch 94/150\n",
      "768/768 [==============================] - 0s 307us/step - loss: 0.4965 - acc: 0.7695 - val_loss: 0.4843 - val_acc: 0.7700\n",
      "Epoch 95/150\n",
      "768/768 [==============================] - 0s 276us/step - loss: 0.5027 - acc: 0.7513 - val_loss: 0.4799 - val_acc: 0.7829\n",
      "Epoch 96/150\n",
      "768/768 [==============================] - 0s 203us/step - loss: 0.4889 - acc: 0.7708 - val_loss: 0.4799 - val_acc: 0.7814\n",
      "Epoch 97/150\n",
      "768/768 [==============================] - 0s 187us/step - loss: 0.4961 - acc: 0.7734 - val_loss: 0.4852 - val_acc: 0.7714\n",
      "Epoch 98/150\n",
      "768/768 [==============================] - 0s 177us/step - loss: 0.4887 - acc: 0.7643 - val_loss: 0.4779 - val_acc: 0.7600\n",
      "Epoch 99/150\n",
      "768/768 [==============================] - 0s 172us/step - loss: 0.4897 - acc: 0.7682 - val_loss: 0.4851 - val_acc: 0.7743\n",
      "Epoch 100/150\n",
      "768/768 [==============================] - 0s 172us/step - loss: 0.4843 - acc: 0.7826 - val_loss: 0.4783 - val_acc: 0.7614\n",
      "Epoch 101/150\n",
      "768/768 [==============================] - 0s 172us/step - loss: 0.4884 - acc: 0.7747 - val_loss: 0.4942 - val_acc: 0.7500\n",
      "Epoch 102/150\n",
      "768/768 [==============================] - 0s 172us/step - loss: 0.4967 - acc: 0.7578 - val_loss: 0.4734 - val_acc: 0.7871\n",
      "Epoch 103/150\n",
      "768/768 [==============================] - 0s 229us/step - loss: 0.4965 - acc: 0.7591 - val_loss: 0.5040 - val_acc: 0.7600\n",
      "Epoch 104/150\n",
      "768/768 [==============================] - 0s 182us/step - loss: 0.4909 - acc: 0.7839 - val_loss: 0.5600 - val_acc: 0.7257\n",
      "Epoch 105/150\n",
      "768/768 [==============================] - 0s 172us/step - loss: 0.5295 - acc: 0.7461 - val_loss: 0.4911 - val_acc: 0.7786\n",
      "Epoch 106/150\n",
      "768/768 [==============================] - 0s 177us/step - loss: 0.4901 - acc: 0.7786 - val_loss: 0.4698 - val_acc: 0.7743\n",
      "Epoch 107/150\n",
      "768/768 [==============================] - 0s 172us/step - loss: 0.4895 - acc: 0.7760 - val_loss: 0.5508 - val_acc: 0.7186\n",
      "Epoch 108/150\n",
      "768/768 [==============================] - 0s 187us/step - loss: 0.5016 - acc: 0.7630 - val_loss: 0.4708 - val_acc: 0.7657\n",
      "Epoch 109/150\n",
      "768/768 [==============================] - 0s 182us/step - loss: 0.4859 - acc: 0.7630 - val_loss: 0.4858 - val_acc: 0.7800\n",
      "Epoch 110/150\n",
      "768/768 [==============================] - 0s 177us/step - loss: 0.4865 - acc: 0.7617 - val_loss: 0.4640 - val_acc: 0.7843\n",
      "Epoch 111/150\n",
      "768/768 [==============================] - 0s 172us/step - loss: 0.4823 - acc: 0.7799 - val_loss: 0.4646 - val_acc: 0.7886\n",
      "Epoch 112/150\n",
      "768/768 [==============================] - 0s 224us/step - loss: 0.4907 - acc: 0.7799 - val_loss: 0.4740 - val_acc: 0.7586\n",
      "Epoch 113/150\n",
      "768/768 [==============================] - 0s 354us/step - loss: 0.4965 - acc: 0.7500 - val_loss: 0.4860 - val_acc: 0.7729\n",
      "Epoch 114/150\n",
      "768/768 [==============================] - 0s 172us/step - loss: 0.4901 - acc: 0.7617 - val_loss: 0.4628 - val_acc: 0.7800\n",
      "Epoch 115/150\n",
      "768/768 [==============================] - 0s 182us/step - loss: 0.4907 - acc: 0.7695 - val_loss: 0.4875 - val_acc: 0.7600\n",
      "Epoch 116/150\n",
      "768/768 [==============================] - 0s 182us/step - loss: 0.4890 - acc: 0.7682 - val_loss: 0.5288 - val_acc: 0.7486\n",
      "Epoch 117/150\n",
      "768/768 [==============================] - 0s 177us/step - loss: 0.4885 - acc: 0.7656 - val_loss: 0.4728 - val_acc: 0.7814\n",
      "Epoch 118/150\n",
      "768/768 [==============================] - 0s 172us/step - loss: 0.4853 - acc: 0.7799 - val_loss: 0.4692 - val_acc: 0.7643\n",
      "Epoch 119/150\n",
      "768/768 [==============================] - 0s 172us/step - loss: 0.4829 - acc: 0.7669 - val_loss: 0.4618 - val_acc: 0.7757\n",
      "Epoch 120/150\n",
      "768/768 [==============================] - 0s 177us/step - loss: 0.4943 - acc: 0.7760 - val_loss: 0.4775 - val_acc: 0.7729\n",
      "Epoch 121/150\n"
     ]
    },
    {
     "name": "stdout",
     "output_type": "stream",
     "text": [
      "768/768 [==============================] - 0s 172us/step - loss: 0.4913 - acc: 0.7721 - val_loss: 0.4680 - val_acc: 0.7886\n",
      "Epoch 122/150\n",
      "768/768 [==============================] - 0s 172us/step - loss: 0.4816 - acc: 0.7799 - val_loss: 0.4882 - val_acc: 0.7743\n",
      "Epoch 123/150\n",
      "768/768 [==============================] - 0s 250us/step - loss: 0.4833 - acc: 0.7643 - val_loss: 0.4581 - val_acc: 0.7857\n",
      "Epoch 124/150\n",
      "768/768 [==============================] - 0s 219us/step - loss: 0.4841 - acc: 0.7786 - val_loss: 0.4628 - val_acc: 0.7929\n",
      "Epoch 125/150\n",
      "768/768 [==============================] - 0s 172us/step - loss: 0.4841 - acc: 0.7799 - val_loss: 0.4741 - val_acc: 0.7614\n",
      "Epoch 126/150\n",
      "768/768 [==============================] - 0s 177us/step - loss: 0.4784 - acc: 0.7682 - val_loss: 0.4642 - val_acc: 0.7771\n",
      "Epoch 127/150\n",
      "768/768 [==============================] - 0s 193us/step - loss: 0.4856 - acc: 0.7721 - val_loss: 0.4561 - val_acc: 0.7900\n",
      "Epoch 128/150\n",
      "768/768 [==============================] - 0s 177us/step - loss: 0.4699 - acc: 0.7786 - val_loss: 0.4807 - val_acc: 0.7743\n",
      "Epoch 129/150\n",
      "768/768 [==============================] - 0s 198us/step - loss: 0.4792 - acc: 0.7734 - val_loss: 0.4654 - val_acc: 0.7786\n",
      "Epoch 130/150\n",
      "768/768 [==============================] - 0s 167us/step - loss: 0.4698 - acc: 0.7904 - val_loss: 0.4709 - val_acc: 0.7914\n",
      "Epoch 131/150\n",
      "768/768 [==============================] - 0s 172us/step - loss: 0.4817 - acc: 0.7643 - val_loss: 0.4691 - val_acc: 0.7614\n",
      "Epoch 132/150\n",
      "768/768 [==============================] - 0s 167us/step - loss: 0.4793 - acc: 0.7799 - val_loss: 0.4551 - val_acc: 0.7800\n",
      "Epoch 133/150\n",
      "768/768 [==============================] - 0s 167us/step - loss: 0.4818 - acc: 0.7734 - val_loss: 0.4565 - val_acc: 0.7843\n",
      "Epoch 134/150\n",
      "768/768 [==============================] - 0s 172us/step - loss: 0.4837 - acc: 0.7734 - val_loss: 0.4600 - val_acc: 0.7986\n",
      "Epoch 135/150\n",
      "768/768 [==============================] - 0s 172us/step - loss: 0.4722 - acc: 0.7721 - val_loss: 0.4578 - val_acc: 0.7943\n",
      "Epoch 136/150\n",
      "768/768 [==============================] - 0s 172us/step - loss: 0.4696 - acc: 0.7786 - val_loss: 0.4729 - val_acc: 0.7757\n",
      "Epoch 137/150\n",
      "768/768 [==============================] - 0s 172us/step - loss: 0.4667 - acc: 0.7852 - val_loss: 0.4552 - val_acc: 0.7900\n",
      "Epoch 138/150\n",
      "768/768 [==============================] - 0s 172us/step - loss: 0.4776 - acc: 0.7917 - val_loss: 0.4547 - val_acc: 0.7886\n",
      "Epoch 139/150\n",
      "768/768 [==============================] - 0s 172us/step - loss: 0.4658 - acc: 0.7826 - val_loss: 0.5007 - val_acc: 0.7614\n",
      "Epoch 140/150\n",
      "768/768 [==============================] - 0s 172us/step - loss: 0.4787 - acc: 0.7826 - val_loss: 0.4552 - val_acc: 0.7943\n",
      "Epoch 141/150\n",
      "768/768 [==============================] - 0s 182us/step - loss: 0.4697 - acc: 0.7852 - val_loss: 0.4505 - val_acc: 0.8000\n",
      "Epoch 142/150\n",
      "768/768 [==============================] - 0s 172us/step - loss: 0.4811 - acc: 0.7708 - val_loss: 0.4536 - val_acc: 0.7857\n",
      "Epoch 143/150\n",
      "768/768 [==============================] - 0s 172us/step - loss: 0.4709 - acc: 0.7812 - val_loss: 0.4627 - val_acc: 0.7900\n",
      "Epoch 144/150\n",
      "768/768 [==============================] - 0s 187us/step - loss: 0.4735 - acc: 0.7852 - val_loss: 0.4789 - val_acc: 0.7743\n",
      "Epoch 145/150\n",
      "768/768 [==============================] - 0s 203us/step - loss: 0.4853 - acc: 0.7617 - val_loss: 0.5092 - val_acc: 0.7686\n",
      "Epoch 146/150\n",
      "768/768 [==============================] - 0s 177us/step - loss: 0.4911 - acc: 0.7708 - val_loss: 0.4576 - val_acc: 0.7957\n",
      "Epoch 147/150\n",
      "768/768 [==============================] - 0s 167us/step - loss: 0.4813 - acc: 0.7826 - val_loss: 0.4786 - val_acc: 0.7729\n",
      "Epoch 148/150\n",
      "768/768 [==============================] - 0s 172us/step - loss: 0.4688 - acc: 0.7773 - val_loss: 0.4972 - val_acc: 0.7514\n",
      "Epoch 149/150\n",
      "768/768 [==============================] - 0s 172us/step - loss: 0.4731 - acc: 0.7617 - val_loss: 0.4563 - val_acc: 0.7971\n",
      "Epoch 150/150\n",
      "768/768 [==============================] - 0s 177us/step - loss: 0.4780 - acc: 0.7852 - val_loss: 0.4728 - val_acc: 0.7886\n"
     ]
    },
    {
     "data": {
      "text/plain": [
       "<keras.callbacks.History at 0x2115f3bd320>"
      ]
     },
     "execution_count": 24,
     "metadata": {},
     "output_type": "execute_result"
    }
   ],
   "source": [
    "# Fit the model\n",
    "model.fit(X, Y, epochs=150, batch_size=10, validation_data = (XTRAIN, YTRAIN))"
   ]
  },
  {
   "cell_type": "markdown",
   "metadata": {},
   "source": [
    "#### evaluate the model then visualize on the \"Data we used the train the model itself\""
   ]
  },
  {
   "cell_type": "code",
   "execution_count": 26,
   "metadata": {},
   "outputs": [
    {
     "name": "stdout",
     "output_type": "stream",
     "text": [
      "700/700 [==============================] - 0s 23us/step\n"
     ]
    }
   ],
   "source": [
    "# evaluate the model\n",
    "scores = model.evaluate(XTRAIN, YTRAIN)"
   ]
  },
  {
   "cell_type": "code",
   "execution_count": 27,
   "metadata": {},
   "outputs": [
    {
     "name": "stdout",
     "output_type": "stream",
     "text": [
      "['loss', 'acc']\n",
      "[0.47276437503950935, 0.7885714289120266]\n"
     ]
    }
   ],
   "source": [
    "print(model.metrics_names)\n",
    "print(scores)"
   ]
  },
  {
   "cell_type": "code",
   "execution_count": 28,
   "metadata": {},
   "outputs": [
    {
     "name": "stdout",
     "output_type": "stream",
     "text": [
      "\n",
      "acc: 78.86%\n"
     ]
    }
   ],
   "source": [
    "print(\"\\n%s: %.2f%%\" % (model.metrics_names[1], scores[1]*100))"
   ]
  },
  {
   "cell_type": "markdown",
   "metadata": {},
   "source": [
    "#### Evaluate the model on the \"Unknown\" dataset (Validation Dataset)"
   ]
  },
  {
   "cell_type": "code",
   "execution_count": 29,
   "metadata": {},
   "outputs": [
    {
     "name": "stdout",
     "output_type": "stream",
     "text": [
      "68/68 [==============================] - 0s 59us/step\n",
      "\n",
      "acc: 80.88%\n"
     ]
    }
   ],
   "source": [
    "scores = model.evaluate(XVALIDATION, YVALIDATION)\n",
    "print(\"\\n%s: %.2f%%\" % (model.metrics_names[1], scores[1]*100))"
   ]
  },
  {
   "cell_type": "markdown",
   "metadata": {},
   "source": [
    "An example of what the model has predicted and comparison with the true classes"
   ]
  },
  {
   "cell_type": "code",
   "execution_count": 35,
   "metadata": {},
   "outputs": [
    {
     "name": "stdout",
     "output_type": "stream",
     "text": [
      "[[2.00e+00 1.22e+02 7.60e+01 2.70e+01 2.00e+02 3.59e+01 4.83e-01 2.60e+01]\n",
      " [6.00e+00 1.25e+02 7.80e+01 3.10e+01 0.00e+00 2.76e+01 5.65e-01 4.90e+01]\n",
      " [1.00e+00 1.68e+02 8.80e+01 2.90e+01 0.00e+00 3.50e+01 9.05e-01 5.20e+01]\n",
      " [2.00e+00 1.29e+02 0.00e+00 0.00e+00 0.00e+00 3.85e+01 3.04e-01 4.10e+01]\n",
      " [4.00e+00 1.10e+02 7.60e+01 2.00e+01 1.00e+02 2.84e+01 1.18e-01 2.70e+01]]\n",
      "[0. 1. 1. 0. 0.]\n"
     ]
    }
   ],
   "source": [
    "print(XVALIDATION[0:5])\n",
    "print(YVALIDATION[0:5])"
   ]
  },
  {
   "cell_type": "code",
   "execution_count": 40,
   "metadata": {},
   "outputs": [],
   "source": [
    "prediction = model.predict(XVALIDATION)"
   ]
  },
  {
   "cell_type": "code",
   "execution_count": 36,
   "metadata": {},
   "outputs": [
    {
     "name": "stdout",
     "output_type": "stream",
     "text": [
      "[[0.37573642]\n",
      " [0.70850843]\n",
      " [0.8657279 ]\n",
      " [0.36483952]\n",
      " [0.2977636 ]]\n"
     ]
    }
   ],
   "source": [
    "print(prediction[0:5])"
   ]
  },
  {
   "cell_type": "code",
   "execution_count": 37,
   "metadata": {},
   "outputs": [
    {
     "name": "stdout",
     "output_type": "stream",
     "text": [
      "[[0.]\n",
      " [1.]\n",
      " [1.]\n",
      " [0.]\n",
      " [0.]]\n"
     ]
    }
   ],
   "source": [
    "print(prediction[0:5].round())"
   ]
  },
  {
   "cell_type": "markdown",
   "metadata": {},
   "source": [
    "\n",
    "\n",
    "## Accuracy is not sufficient to evaluate our model's ability to do binary classification  \n",
    "-----------  \n",
    "#### we will evaluate the model using precision and recall as well."
   ]
  },
  {
   "cell_type": "code",
   "execution_count": null,
   "metadata": {},
   "outputs": [],
   "source": []
  },
  {
   "cell_type": "markdown",
   "metadata": {},
   "source": [
    "First we show the precision, recall and F1 score for our training set"
   ]
  },
  {
   "cell_type": "markdown",
   "metadata": {},
   "source": [
    "#### First we show the precision, recall and F1 score for our training set"
   ]
  },
  {
   "cell_type": "code",
   "execution_count": 44,
   "metadata": {},
   "outputs": [
    {
     "name": "stdout",
     "output_type": "stream",
     "text": [
      "Accuracy: 80.88%\n",
      "Precision: 79.17%\n",
      "Recall: 70.37%\n",
      "F1-score: 0.75\n"
     ]
    }
   ],
   "source": [
    "accuracy = accuracy_score(YVALIDATION, prediction.round())\n",
    "precision = precision_score(YVALIDATION, prediction.round())\n",
    "recall = recall_score(YVALIDATION, prediction.round())\n",
    "f1score = f1_score(YVALIDATION, prediction.round())\n",
    "print(\"Accuracy: %.2f%%\" % (accuracy * 100.0))\n",
    "print(\"Precision: %.2f%%\" % (precision * 100.0))\n",
    "print(\"Recall: %.2f%%\" % (recall * 100.0))\n",
    "print(\"F1-score: %.2f\" % (f1score))"
   ]
  }
 ],
 "metadata": {
  "kernelspec": {
   "display_name": "Python 3",
   "language": "python",
   "name": "python3"
  },
  "language_info": {
   "codemirror_mode": {
    "name": "ipython",
    "version": 3
   },
   "file_extension": ".py",
   "mimetype": "text/x-python",
   "name": "python",
   "nbconvert_exporter": "python",
   "pygments_lexer": "ipython3",
   "version": "3.6.5"
  }
 },
 "nbformat": 4,
 "nbformat_minor": 2
}
