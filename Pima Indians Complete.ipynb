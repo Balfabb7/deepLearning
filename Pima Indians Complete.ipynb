{
 "cells": [
  {
   "cell_type": "code",
   "execution_count": 1,
   "metadata": {},
   "outputs": [
    {
     "name": "stderr",
     "output_type": "stream",
     "text": [
      "/Users/som/anaconda3/lib/python3.6/site-packages/h5py/__init__.py:36: FutureWarning: Conversion of the second argument of issubdtype from `float` to `np.floating` is deprecated. In future, it will be treated as `np.float64 == np.dtype(float).type`.\n",
      "  from ._conv import register_converters as _register_converters\n",
      "Using TensorFlow backend.\n"
     ]
    }
   ],
   "source": [
    "# Create first network with Keras\n",
    "import matplotlib.pyplot as plt\n",
    "from keras.models import Sequential\n",
    "from keras.layers import Dense\n",
    "import numpy\n",
    "# fix random seed for reproducibility\n",
    "seed = 7\n",
    "numpy.random.seed(seed)"
   ]
  },
  {
   "cell_type": "code",
   "execution_count": 2,
   "metadata": {},
   "outputs": [],
   "source": [
    "# load pima indians dataset\n",
    "dataset = numpy.loadtxt(\"https://raw.githubusercontent.com/jbrownlee/Datasets/master/pima-indians-diabetes.data.csv\", delimiter=\",\")\n",
    "# split into input (X) and output (Y) variables\n",
    "X = dataset[:700,0:8]\n",
    "Y = dataset[:700,8]\n",
    "XTEST = dataset[700:,0:8]\n",
    "YTEST = dataset[700:,8]"
   ]
  },
  {
   "cell_type": "code",
   "execution_count": 3,
   "metadata": {},
   "outputs": [
    {
     "name": "stdout",
     "output_type": "stream",
     "text": [
      "(700, 8)\n",
      "(700,)\n",
      "(68, 8)\n",
      "(68,)\n",
      "[[  6.    148.     72.     35.      0.     33.6     0.627  50.   ]\n",
      " [  1.     85.     66.     29.      0.     26.6     0.351  31.   ]\n",
      " [  8.    183.     64.      0.      0.     23.3     0.672  32.   ]]\n",
      "[1. 0. 1.]\n",
      "[[  2.    122.     76.     27.    200.     35.9     0.483  26.   ]\n",
      " [  6.    125.     78.     31.      0.     27.6     0.565  49.   ]\n",
      " [  1.    168.     88.     29.      0.     35.      0.905  52.   ]]\n",
      "[0. 1. 1.]\n"
     ]
    }
   ],
   "source": [
    "print(X.shape)\n",
    "print(Y.shape)\n",
    "print(XTEST.shape)\n",
    "print(YTEST.shape)\n",
    "print(X[0:3,])\n",
    "print(Y[0:3])\n",
    "print(XTEST[0:3,])\n",
    "print(YTEST[0:3])\n"
   ]
  },
  {
   "cell_type": "code",
   "execution_count": 4,
   "metadata": {},
   "outputs": [
    {
     "name": "stderr",
     "output_type": "stream",
     "text": [
      "/Users/som/anaconda3/lib/python3.6/site-packages/ipykernel_launcher.py:3: UserWarning: Update your `Dense` call to the Keras 2 API: `Dense(12, input_dim=8, activation=\"relu\", kernel_initializer=\"uniform\")`\n",
      "  This is separate from the ipykernel package so we can avoid doing imports until\n"
     ]
    },
    {
     "name": "stdout",
     "output_type": "stream",
     "text": [
      "_________________________________________________________________\n",
      "Layer (type)                 Output Shape              Param #   \n",
      "=================================================================\n",
      "dense_1 (Dense)              (None, 12)                108       \n",
      "_________________________________________________________________\n",
      "dense_2 (Dense)              (None, 8)                 104       \n",
      "_________________________________________________________________\n",
      "dense_3 (Dense)              (None, 8)                 72        \n",
      "_________________________________________________________________\n",
      "dense_4 (Dense)              (None, 8)                 72        \n",
      "_________________________________________________________________\n",
      "dense_5 (Dense)              (None, 8)                 72        \n",
      "_________________________________________________________________\n",
      "dense_6 (Dense)              (None, 1)                 9         \n",
      "=================================================================\n",
      "Total params: 437\n",
      "Trainable params: 437\n",
      "Non-trainable params: 0\n",
      "_________________________________________________________________\n",
      "None\n"
     ]
    }
   ],
   "source": [
    "# create model\n",
    "model = Sequential()\n",
    "model.add(Dense(12, input_dim=8, init='uniform', activation='relu'))\n",
    "model.add(Dense(8, activation='relu'))\n",
    "model.add(Dense(8, activation='relu'))\n",
    "model.add(Dense(8, activation='relu'))\n",
    "model.add(Dense(8, activation='relu'))\n",
    "model.add(Dense(1, activation='sigmoid'))\n",
    "# Compile model\n",
    "model.compile(loss='binary_crossentropy', optimizer='adam', metrics=['accuracy'])\n",
    "print(model.summary())\n"
   ]
  },
  {
   "cell_type": "code",
   "execution_count": 5,
   "metadata": {},
   "outputs": [
    {
     "name": "stdout",
     "output_type": "stream",
     "text": [
      "Train on 700 samples, validate on 68 samples\n",
      "Epoch 1/100\n",
      " - 2s - loss: 0.6635 - acc: 0.6543 - val_loss: 0.6975 - val_acc: 0.6029\n",
      "Epoch 2/100\n",
      " - 0s - loss: 0.6435 - acc: 0.6557 - val_loss: 0.7018 - val_acc: 0.6029\n",
      "Epoch 3/100\n",
      " - 0s - loss: 0.6313 - acc: 0.6557 - val_loss: 0.7238 - val_acc: 0.6029\n",
      "Epoch 4/100\n",
      " - 0s - loss: 0.6321 - acc: 0.6543 - val_loss: 0.6581 - val_acc: 0.6029\n",
      "Epoch 5/100\n",
      " - 0s - loss: 0.6209 - acc: 0.6557 - val_loss: 0.6499 - val_acc: 0.6029\n",
      "Epoch 6/100\n",
      " - 0s - loss: 0.6073 - acc: 0.6557 - val_loss: 0.6505 - val_acc: 0.6029\n",
      "Epoch 7/100\n",
      " - 0s - loss: 0.6126 - acc: 0.6543 - val_loss: 0.6703 - val_acc: 0.6029\n",
      "Epoch 8/100\n",
      " - 0s - loss: 0.6012 - acc: 0.6557 - val_loss: 0.6847 - val_acc: 0.6029\n",
      "Epoch 9/100\n",
      " - 0s - loss: 0.5936 - acc: 0.6557 - val_loss: 0.6424 - val_acc: 0.6029\n",
      "Epoch 10/100\n",
      " - 0s - loss: 0.6002 - acc: 0.6543 - val_loss: 0.6487 - val_acc: 0.6618\n",
      "Epoch 11/100\n",
      " - 0s - loss: 0.6046 - acc: 0.6586 - val_loss: 0.6502 - val_acc: 0.6029\n",
      "Epoch 12/100\n",
      " - 0s - loss: 0.6024 - acc: 0.6529 - val_loss: 0.6442 - val_acc: 0.6471\n",
      "Epoch 13/100\n",
      " - 0s - loss: 0.6039 - acc: 0.6643 - val_loss: 0.6839 - val_acc: 0.6176\n",
      "Epoch 14/100\n",
      " - 1s - loss: 0.5941 - acc: 0.6857 - val_loss: 0.6377 - val_acc: 0.6176\n",
      "Epoch 15/100\n",
      " - 0s - loss: 0.5930 - acc: 0.6971 - val_loss: 0.6444 - val_acc: 0.6618\n",
      "Epoch 16/100\n",
      " - 1s - loss: 0.5915 - acc: 0.6643 - val_loss: 0.7024 - val_acc: 0.5882\n",
      "Epoch 17/100\n",
      " - 1s - loss: 0.5896 - acc: 0.6800 - val_loss: 0.6357 - val_acc: 0.7059\n",
      "Epoch 18/100\n",
      " - 0s - loss: 0.5871 - acc: 0.6743 - val_loss: 0.6347 - val_acc: 0.6324\n",
      "Epoch 19/100\n",
      " - 1s - loss: 0.5916 - acc: 0.6886 - val_loss: 0.6328 - val_acc: 0.5882\n",
      "Epoch 20/100\n",
      " - 1s - loss: 0.5845 - acc: 0.6914 - val_loss: 0.6238 - val_acc: 0.6765\n",
      "Epoch 21/100\n",
      " - 0s - loss: 0.5718 - acc: 0.7057 - val_loss: 0.6355 - val_acc: 0.6471\n",
      "Epoch 22/100\n",
      " - 0s - loss: 0.5792 - acc: 0.6971 - val_loss: 0.6463 - val_acc: 0.6471\n",
      "Epoch 23/100\n",
      " - 0s - loss: 0.5746 - acc: 0.7343 - val_loss: 0.7746 - val_acc: 0.6324\n",
      "Epoch 24/100\n",
      " - 0s - loss: 0.5866 - acc: 0.6829 - val_loss: 0.6264 - val_acc: 0.6176\n",
      "Epoch 25/100\n",
      " - 0s - loss: 0.5768 - acc: 0.7057 - val_loss: 0.6007 - val_acc: 0.6912\n",
      "Epoch 26/100\n",
      " - 0s - loss: 0.5717 - acc: 0.7014 - val_loss: 0.6186 - val_acc: 0.6471\n",
      "Epoch 27/100\n",
      " - 0s - loss: 0.5714 - acc: 0.7157 - val_loss: 0.6056 - val_acc: 0.6912\n",
      "Epoch 28/100\n",
      " - 0s - loss: 0.5615 - acc: 0.7300 - val_loss: 0.5964 - val_acc: 0.6912\n",
      "Epoch 29/100\n",
      " - 0s - loss: 0.5650 - acc: 0.7157 - val_loss: 0.5929 - val_acc: 0.7059\n",
      "Epoch 30/100\n",
      " - 0s - loss: 0.5581 - acc: 0.7143 - val_loss: 0.6059 - val_acc: 0.6912\n",
      "Epoch 31/100\n",
      " - 0s - loss: 0.5616 - acc: 0.7257 - val_loss: 0.5986 - val_acc: 0.7059\n",
      "Epoch 32/100\n",
      " - 0s - loss: 0.5556 - acc: 0.7400 - val_loss: 0.6129 - val_acc: 0.7059\n",
      "Epoch 33/100\n",
      " - 0s - loss: 0.5453 - acc: 0.7314 - val_loss: 0.6465 - val_acc: 0.5882\n",
      "Epoch 34/100\n",
      " - 0s - loss: 0.5625 - acc: 0.7071 - val_loss: 0.6755 - val_acc: 0.6324\n",
      "Epoch 35/100\n",
      " - 0s - loss: 0.5462 - acc: 0.7171 - val_loss: 0.5884 - val_acc: 0.6765\n",
      "Epoch 36/100\n",
      " - 1s - loss: 0.5428 - acc: 0.7357 - val_loss: 0.6287 - val_acc: 0.6471\n",
      "Epoch 37/100\n",
      " - 0s - loss: 0.5545 - acc: 0.7171 - val_loss: 0.5869 - val_acc: 0.7059\n",
      "Epoch 38/100\n",
      " - 0s - loss: 0.5361 - acc: 0.7329 - val_loss: 0.5835 - val_acc: 0.7206\n",
      "Epoch 39/100\n",
      " - 0s - loss: 0.5455 - acc: 0.7229 - val_loss: 0.6121 - val_acc: 0.7206\n",
      "Epoch 40/100\n",
      " - 0s - loss: 0.5340 - acc: 0.7471 - val_loss: 0.6127 - val_acc: 0.6912\n",
      "Epoch 41/100\n",
      " - 0s - loss: 0.5345 - acc: 0.7414 - val_loss: 0.6320 - val_acc: 0.7059\n",
      "Epoch 42/100\n",
      " - 1s - loss: 0.5298 - acc: 0.7400 - val_loss: 0.6325 - val_acc: 0.6765\n",
      "Epoch 43/100\n",
      " - 0s - loss: 0.5300 - acc: 0.7386 - val_loss: 0.6280 - val_acc: 0.6618\n",
      "Epoch 44/100\n",
      " - 0s - loss: 0.5255 - acc: 0.7443 - val_loss: 0.5710 - val_acc: 0.6912\n",
      "Epoch 45/100\n",
      " - 0s - loss: 0.5222 - acc: 0.7471 - val_loss: 0.5911 - val_acc: 0.7206\n",
      "Epoch 46/100\n",
      " - 0s - loss: 0.5225 - acc: 0.7529 - val_loss: 0.5826 - val_acc: 0.6912\n",
      "Epoch 47/100\n",
      " - 1s - loss: 0.5228 - acc: 0.7486 - val_loss: 0.5877 - val_acc: 0.6912\n",
      "Epoch 48/100\n",
      " - 0s - loss: 0.5307 - acc: 0.7471 - val_loss: 0.5651 - val_acc: 0.7500\n",
      "Epoch 49/100\n",
      " - 0s - loss: 0.5257 - acc: 0.7457 - val_loss: 0.5948 - val_acc: 0.7206\n",
      "Epoch 50/100\n",
      " - 0s - loss: 0.5206 - acc: 0.7443 - val_loss: 0.5594 - val_acc: 0.7206\n",
      "Epoch 51/100\n",
      " - 0s - loss: 0.5145 - acc: 0.7600 - val_loss: 0.5490 - val_acc: 0.7353\n",
      "Epoch 52/100\n",
      " - 0s - loss: 0.5138 - acc: 0.7514 - val_loss: 0.5461 - val_acc: 0.7647\n",
      "Epoch 53/100\n",
      " - 0s - loss: 0.5129 - acc: 0.7429 - val_loss: 0.5779 - val_acc: 0.7206\n",
      "Epoch 54/100\n",
      " - 0s - loss: 0.4990 - acc: 0.7600 - val_loss: 0.5478 - val_acc: 0.7353\n",
      "Epoch 55/100\n",
      " - 1s - loss: 0.5095 - acc: 0.7543 - val_loss: 0.5765 - val_acc: 0.7059\n",
      "Epoch 56/100\n",
      " - 1s - loss: 0.5045 - acc: 0.7643 - val_loss: 0.5237 - val_acc: 0.7941\n",
      "Epoch 57/100\n",
      " - 0s - loss: 0.5059 - acc: 0.7571 - val_loss: 0.5504 - val_acc: 0.7647\n",
      "Epoch 58/100\n",
      " - 1s - loss: 0.4981 - acc: 0.7557 - val_loss: 0.5218 - val_acc: 0.7353\n",
      "Epoch 59/100\n",
      " - 1s - loss: 0.4954 - acc: 0.7629 - val_loss: 0.5234 - val_acc: 0.7206\n",
      "Epoch 60/100\n",
      " - 0s - loss: 0.4991 - acc: 0.7757 - val_loss: 0.5719 - val_acc: 0.6912\n",
      "Epoch 61/100\n",
      " - 0s - loss: 0.5012 - acc: 0.7643 - val_loss: 0.5369 - val_acc: 0.7647\n",
      "Epoch 62/100\n",
      " - 0s - loss: 0.5018 - acc: 0.7643 - val_loss: 0.5458 - val_acc: 0.7647\n",
      "Epoch 63/100\n",
      " - 0s - loss: 0.4897 - acc: 0.7743 - val_loss: 0.5707 - val_acc: 0.7206\n",
      "Epoch 64/100\n",
      " - 0s - loss: 0.4934 - acc: 0.7643 - val_loss: 0.5726 - val_acc: 0.7059\n",
      "Epoch 65/100\n",
      " - 0s - loss: 0.4892 - acc: 0.7614 - val_loss: 0.5280 - val_acc: 0.7353\n",
      "Epoch 66/100\n",
      " - 0s - loss: 0.4864 - acc: 0.7671 - val_loss: 0.5657 - val_acc: 0.7206\n",
      "Epoch 67/100\n",
      " - 0s - loss: 0.4957 - acc: 0.7657 - val_loss: 0.5093 - val_acc: 0.7647\n",
      "Epoch 68/100\n",
      " - 0s - loss: 0.4819 - acc: 0.7729 - val_loss: 0.5470 - val_acc: 0.7206\n",
      "Epoch 69/100\n",
      " - 0s - loss: 0.4844 - acc: 0.7614 - val_loss: 0.5561 - val_acc: 0.7647\n",
      "Epoch 70/100\n",
      " - 0s - loss: 0.4813 - acc: 0.7586 - val_loss: 0.5005 - val_acc: 0.7941\n",
      "Epoch 71/100\n",
      " - 0s - loss: 0.4804 - acc: 0.7786 - val_loss: 0.5666 - val_acc: 0.7500\n",
      "Epoch 72/100\n",
      " - 0s - loss: 0.4749 - acc: 0.7729 - val_loss: 0.5625 - val_acc: 0.7500\n",
      "Epoch 73/100\n",
      " - 0s - loss: 0.4821 - acc: 0.7629 - val_loss: 0.5331 - val_acc: 0.7647\n",
      "Epoch 74/100\n",
      " - 0s - loss: 0.4716 - acc: 0.7729 - val_loss: 0.5075 - val_acc: 0.7794\n",
      "Epoch 75/100\n",
      " - 0s - loss: 0.4742 - acc: 0.7714 - val_loss: 0.4867 - val_acc: 0.7941\n",
      "Epoch 76/100\n",
      " - 0s - loss: 0.4726 - acc: 0.7614 - val_loss: 0.4941 - val_acc: 0.7647\n",
      "Epoch 77/100\n",
      " - 0s - loss: 0.4721 - acc: 0.7714 - val_loss: 0.5174 - val_acc: 0.7647\n",
      "Epoch 78/100\n",
      " - 0s - loss: 0.4746 - acc: 0.7729 - val_loss: 0.5738 - val_acc: 0.7206\n",
      "Epoch 79/100\n",
      " - 0s - loss: 0.4774 - acc: 0.7714 - val_loss: 0.4934 - val_acc: 0.7647\n",
      "Epoch 80/100\n",
      " - 0s - loss: 0.4772 - acc: 0.7629 - val_loss: 0.4936 - val_acc: 0.7794\n",
      "Epoch 81/100\n",
      " - 0s - loss: 0.4664 - acc: 0.7800 - val_loss: 0.5349 - val_acc: 0.7794\n",
      "Epoch 82/100\n",
      " - 0s - loss: 0.4670 - acc: 0.7786 - val_loss: 0.5139 - val_acc: 0.7353\n",
      "Epoch 83/100\n",
      " - 0s - loss: 0.4815 - acc: 0.7571 - val_loss: 0.5205 - val_acc: 0.7647\n",
      "Epoch 84/100\n",
      " - 0s - loss: 0.4649 - acc: 0.7757 - val_loss: 0.5041 - val_acc: 0.7941\n",
      "Epoch 85/100\n",
      " - 0s - loss: 0.4689 - acc: 0.7771 - val_loss: 0.5895 - val_acc: 0.7206\n",
      "Epoch 86/100\n",
      " - 0s - loss: 0.4706 - acc: 0.7729 - val_loss: 0.5088 - val_acc: 0.7500\n",
      "Epoch 87/100\n",
      " - 0s - loss: 0.4690 - acc: 0.7714 - val_loss: 0.4712 - val_acc: 0.8235\n",
      "Epoch 88/100\n",
      " - 0s - loss: 0.4760 - acc: 0.7714 - val_loss: 0.5304 - val_acc: 0.7794\n",
      "Epoch 89/100\n",
      " - 0s - loss: 0.4704 - acc: 0.7700 - val_loss: 0.5313 - val_acc: 0.7941\n",
      "Epoch 90/100\n",
      " - 0s - loss: 0.4637 - acc: 0.7714 - val_loss: 0.4790 - val_acc: 0.7647\n",
      "Epoch 91/100\n",
      " - 0s - loss: 0.4727 - acc: 0.7814 - val_loss: 0.4743 - val_acc: 0.7941\n",
      "Epoch 92/100\n",
      " - 0s - loss: 0.4605 - acc: 0.7814 - val_loss: 0.4947 - val_acc: 0.7941\n",
      "Epoch 93/100\n",
      " - 0s - loss: 0.4701 - acc: 0.7786 - val_loss: 0.5652 - val_acc: 0.7206\n",
      "Epoch 94/100\n",
      " - 0s - loss: 0.4638 - acc: 0.7857 - val_loss: 0.4924 - val_acc: 0.7647\n",
      "Epoch 95/100\n",
      " - 0s - loss: 0.4624 - acc: 0.7829 - val_loss: 0.5250 - val_acc: 0.7794\n",
      "Epoch 96/100\n",
      " - 0s - loss: 0.4621 - acc: 0.7743 - val_loss: 0.4979 - val_acc: 0.7500\n"
     ]
    },
    {
     "name": "stdout",
     "output_type": "stream",
     "text": [
      "Epoch 97/100\n",
      " - 0s - loss: 0.4639 - acc: 0.7757 - val_loss: 0.5439 - val_acc: 0.7941\n",
      "Epoch 98/100\n",
      " - 0s - loss: 0.4600 - acc: 0.7886 - val_loss: 0.4771 - val_acc: 0.7647\n",
      "Epoch 99/100\n",
      " - 0s - loss: 0.4599 - acc: 0.7900 - val_loss: 0.5022 - val_acc: 0.7500\n",
      "Epoch 100/100\n",
      " - 0s - loss: 0.4664 - acc: 0.7600 - val_loss: 0.5169 - val_acc: 0.7647\n"
     ]
    }
   ],
   "source": [
    "# Fit the model\n",
    "history = model.fit(X, Y, epochs=100, batch_size=5, validation_data = (XTEST, YTEST), verbose=2)"
   ]
  },
  {
   "cell_type": "code",
   "execution_count": 6,
   "metadata": {},
   "outputs": [
    {
     "name": "stdout",
     "output_type": "stream",
     "text": [
      "dict_keys(['val_loss', 'val_acc', 'loss', 'acc'])\n"
     ]
    },
    {
     "data": {
      "image/png": "[encoded data removed]",
      "text/plain": [
       "<Figure size 432x288 with 1 Axes>"
      ]
     },
     "metadata": {},
     "output_type": "display_data"
    }
   ],
   "source": [
    "# list all data in history\n",
    "print(history.history.keys())\n",
    "# summarize history for accuracy\n",
    "plt.plot(history.history['acc'])\n",
    "plt.plot(history.history['val_acc'])\n",
    "plt.title('model accuracy')\n",
    "plt.ylabel('accuracy')\n",
    "plt.xlabel('epoch')\n",
    "plt.legend(['train', 'validation'], loc='upper left')\n",
    "plt.show()"
   ]
  },
  {
   "cell_type": "code",
   "execution_count": 7,
   "metadata": {},
   "outputs": [
    {
     "data": {
      "image/png": "[encoded data removed]",
      "text/plain": [
       "<Figure size 432x288 with 1 Axes>"
      ]
     },
     "metadata": {},
     "output_type": "display_data"
    }
   ],
   "source": [
    "# summarize history for loss\n",
    "plt.plot(history.history['loss'])\n",
    "plt.plot(history.history['val_loss'])\n",
    "plt.title('model loss')\n",
    "plt.ylabel('loss')\n",
    "plt.xlabel('epoch')\n",
    "plt.legend(['train', 'test'], loc='upper left')\n",
    "plt.show()\n"
   ]
  },
  {
   "cell_type": "code",
   "execution_count": 8,
   "metadata": {},
   "outputs": [
    {
     "name": "stdout",
     "output_type": "stream",
     "text": [
      "700/700 [==============================] - 0s 37us/step\n",
      "\n",
      "acc: 77.86%\n",
      "68/68 [==============================] - 0s 104us/step\n",
      "\n",
      "acc: 76.47%\n"
     ]
    }
   ],
   "source": [
    "# evaluate the model on training dataset\n",
    "scores = model.evaluate(X, Y)\n",
    "print(\"\\n%s: %.2f%%\" % (model.metrics_names[1], scores[1]*100))\n",
    "# evaluate the model on validation dataset\n",
    "scores = model.evaluate(XTEST, YTEST)\n",
    "print(\"\\n%s: %.2f%%\" % (model.metrics_names[1], scores[1]*100))"
   ]
  },
  {
   "cell_type": "code",
   "execution_count": 9,
   "metadata": {},
   "outputs": [
    {
     "name": "stdout",
     "output_type": "stream",
     "text": [
      "[0.0, 1.0, 1.0, 0.0, 0.0, 0.0, 0.0, 0.0, 1.0, 0.0, 1.0, 0.0, 1.0, 0.0, 0.0, 1.0, 1.0, 0.0, 0.0, 0.0, 0.0, 0.0, 1.0, 1.0, 0.0, 1.0, 0.0, 0.0, 0.0, 0.0, 0.0, 0.0, 1.0, 0.0, 0.0, 0.0, 0.0, 0.0, 0.0, 0.0, 1.0, 0.0, 0.0, 1.0, 1.0, 1.0, 1.0, 0.0, 1.0, 0.0, 1.0, 0.0, 0.0, 1.0, 1.0, 1.0, 1.0, 0.0, 0.0, 1.0, 0.0, 1.0, 0.0, 1.0, 0.0, 0.0, 0.0, 0.0]\n"
     ]
    }
   ],
   "source": [
    "# calculate predictions\n",
    "predictions = model.predict(XTEST)\n",
    "# round predictions\n",
    "rounded = [round(x[0]) for x in predictions]\n",
    "print(rounded)"
   ]
  },
  {
   "cell_type": "code",
   "execution_count": 10,
   "metadata": {},
   "outputs": [
    {
     "name": "stdout",
     "output_type": "stream",
     "text": [
      "Accuracy: 76.47%\n",
      "Precision: 72.00%\n",
      "Recall: 66.67%\n",
      "F1-score: 0.69\n"
     ]
    }
   ],
   "source": [
    "from sklearn.metrics import accuracy_score, precision_score, recall_score, f1_score\n",
    "import numpy as np\n",
    "y_pred = model.predict(XTEST)\n",
    "y_pred = y_pred.reshape(len(y_pred))\n",
    "predictions = [round(value) for value in y_pred]\n",
    "accuracy = accuracy_score(YTEST, predictions)\n",
    "precision = precision_score(YTEST, predictions)\n",
    "recall = recall_score(YTEST, predictions)\n",
    "f1score = f1_score(YTEST, predictions)\n",
    "print(\"Accuracy: %.2f%%\" % (accuracy * 100.0))\n",
    "print(\"Precision: %.2f%%\" % (precision * 100.0))\n",
    "print(\"Recall: %.2f%%\" % (recall * 100.0))\n",
    "print(\"F1-score: %.2f\" % (f1score))"
   ]
  },
  {
   "cell_type": "code",
   "execution_count": null,
   "metadata": {},
   "outputs": [],
   "source": []
  }
 ],
 "metadata": {
  "kernelspec": {
   "display_name": "Python 3",
   "language": "python",
   "name": "python3"
  },
  "language_info": {
   "codemirror_mode": {
    "name": "ipython",
    "version": 3
   },
   "file_extension": ".py",
   "mimetype": "text/x-python",
   "name": "python",
   "nbconvert_exporter": "python",
   "pygments_lexer": "ipython3",
   "version": "3.6.5"
  }
 },
 "nbformat": 4,
 "nbformat_minor": 2
}
